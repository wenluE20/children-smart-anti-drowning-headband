{
 "cells": [
  {
   "cell_type": "code",
   "execution_count": 1,
   "id": "2242e70d-9d90-4f03-8b54-f4e5358998c6",
   "metadata": {},
   "outputs": [
    {
     "name": "stdout",
     "output_type": "stream",
     "text": [
      "开始数据采集...按Ctrl+C停止。\n",
      "\n",
      "数据采集结束。\n"
     ]
    }
   ],
   "source": [
    "import time\n",
    "import csv\n",
    "from mpu6050 import mpu6050\n",
    "\n",
    "# 初始化MPU6050传感器\n",
    "sensor = mpu6050(0x68)\n",
    "\n",
    "# 打开CSV文件，准备写入数据\n",
    "with open(\"swimming_accel_data.csv\", mode='w', newline='') as file:\n",
    "    writer = csv.writer(file)\n",
    "    # 写入CSV文件头\n",
    "    writer.writerow([\"Time\", \"Accel_X\", \"Accel_Y\", \"Accel_Z\"])\n",
    "    \n",
    "    print(\"开始数据采集...按Ctrl+C停止。\")\n",
    "    \n",
    "    try:\n",
    "        while True:\n",
    "            # 获取加速度计数据\n",
    "            accel_data = sensor.get_accel_data()\n",
    "            \n",
    "            # 获取当前时间戳（秒）\n",
    "            current_time = time.time()\n",
    "            \n",
    "            # 提取X、Y、Z轴的加速度数据\n",
    "            accel_x = accel_data['x']\n",
    "            accel_y = accel_data['y']\n",
    "            accel_z = accel_data['z']\n",
    "            \n",
    "            # 写入数据到CSV文件\n",
    "            writer.writerow([current_time, accel_x, accel_y, accel_z])\n",
    "            \n",
    "            # 每0.05秒采集一次数据\n",
    "            time.sleep(0.05)\n",
    "    \n",
    "    except KeyboardInterrupt:\n",
    "        print(\"\\n数据采集结束。\")\n"
   ]
  },
  {
   "cell_type": "code",
   "execution_count": null,
   "id": "0d042a81-9f19-4d62-bd77-950ce2110f23",
   "metadata": {},
   "outputs": [],
   "source": []
  }
 ],
 "metadata": {
  "kernelspec": {
   "display_name": "Python 3 (ipykernel)",
   "language": "python",
   "name": "python3"
  },
  "language_info": {
   "codemirror_mode": {
    "name": "ipython",
    "version": 3
   },
   "file_extension": ".py",
   "mimetype": "text/x-python",
   "name": "python",
   "nbconvert_exporter": "python",
   "pygments_lexer": "ipython3",
   "version": "3.11.2"
  }
 },
 "nbformat": 4,
 "nbformat_minor": 5
}
